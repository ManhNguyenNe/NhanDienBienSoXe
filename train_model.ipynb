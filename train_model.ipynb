{
 "cells": [
  {
   "cell_type": "markdown",
   "id": "a926f213",
   "metadata": {},
   "source": [
    "Chạy đoạn code này trên Kaggle/Colab để train"
   ]
  },
  {
   "cell_type": "code",
   "execution_count": null,
   "id": "16a54e71",
   "metadata": {},
   "outputs": [],
   "source": [
    "# 1. Cài ultralytics và roboflow (phiên bản mới nhất)\n",
    "#!pip install --quiet ultralytics roboflow\n",
    "\n",
    "# 2. Kiểm tra phiên bản các thư viện chính\n",
    "import ultralytics\n",
    "import roboflow\n",
    "\n",
    "print(\"Ultralytics YOLOv8 version:\", ultralytics.__version__)\n",
    "print(\"Roboflow SDK version:\", roboflow.__version__)\n",
    "\n",
    "# 3. Test import các thư viện thường dùng (OpenCV, torch)\n",
    "import cv2\n",
    "import torch\n",
    "\n",
    "print(\"OpenCV version:\", cv2.__version__)\n",
    "print(\"PyTorch version:\", torch.__version__)"
   ]
  },
  {
   "cell_type": "markdown",
   "id": "f641471f",
   "metadata": {},
   "source": [
    "Huấn luyện model, data lấy từ roboflow (được được chia tập train - test - val)"
   ]
  },
  {
   "cell_type": "code",
   "execution_count": null,
   "id": "71dcc47a",
   "metadata": {},
   "outputs": [],
   "source": [
    "from roboflow import Roboflow\n",
    "from ultralytics import YOLO\n",
    "import os\n",
    "\n",
    "rf = Roboflow(api_key=\"STe901OMGDcnmRX0vKI3\")\n",
    "project = rf.workspace(\"carplatedetection-8plix\").project(\"carplatedetection-qv4tz\")\n",
    "version = project.version(9)\n",
    "dataset = version.download(\"yolov8\")\n",
    "\n",
    "model = YOLO('yolov8n.pt')\n",
    "data_yaml_path = os.path.join(dataset.location, \"data.yaml\")\n",
    "\n",
    "# Các siêu tham số: epochs: 30, imgsz: 640 px, batch: 16\n",
    "\n",
    "model.train(\n",
    "    data=data_yaml_path,\n",
    "    epochs=30,\n",
    "    imgsz=640,\n",
    "    batch=16,\n",
    "    name='yolov8n-carplate',\n",
    "    project='runs/train'\n",
    ")"
   ]
  },
  {
   "cell_type": "markdown",
   "id": "002298ad",
   "metadata": {},
   "source": [
    "In ra các chỉ số cần thiết để đánh giá"
   ]
  },
  {
   "cell_type": "code",
   "execution_count": null,
   "id": "6045049c",
   "metadata": {},
   "outputs": [],
   "source": [
    "metrics = model.val()\n",
    "\n",
    "results = metrics.results_dict\n",
    "\n",
    "# Precision và Recall\n",
    "precision = results['metrics/precision(B)']\n",
    "recall = results['metrics/recall(B)']\n",
    "\n",
    "# Tính F1-score\n",
    "f1_score = 2 * (precision * recall) / (precision + recall + 1e-8)  # tránh chia 0\n",
    "\n",
    "# In các chỉ số đánh giá\n",
    "print(f\"📊 Precision     : {precision:.4f}\")\n",
    "print(f\"📊 Recall        : {recall:.4f}\")\n",
    "print(f\"📊 F1-score      : {f1_score:.4f}\")\n",
    "print(f\"📊 mAP@0.5       : {results['metrics/mAP50(B)']:.4f}\")\n",
    "print(f\"📊 mAP@0.5:0.95  : {results['metrics/mAP50-95(B)']:.4f}\")\n",
    "\n",
    "# In ma trận nhầm lẫn\n",
    "print(\"\\n📉 Confusion Matrix:\")\n",
    "print(metrics.confusion_matrix.matrix)"
   ]
  }
 ],
 "metadata": {
  "language_info": {
   "name": "python"
  }
 },
 "nbformat": 4,
 "nbformat_minor": 5
}
